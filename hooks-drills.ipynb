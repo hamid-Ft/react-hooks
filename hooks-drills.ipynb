{
 "cells": [
  {
   "cell_type": "markdown",
   "metadata": {},
   "source": [
    "React Practice focused on Hooks \n",
    "hooks rules :\n",
    "  - have \"use\" prefix\n",
    "  - must use on top lvl inside of any component or another hooks (built-in || custom hooks)\n",
    "    - can't run it conditionaly\n",
    "  - state ,context , ref , effect ,performence   "
   ]
  },
  {
   "cell_type": "markdown",
   "metadata": {},
   "source": [
    "\n",
    "  * STATE HOOKS : \n",
    "  - useState , useReducer\n",
    "  - state is an information that you want to get from or show to user that changes over time \n",
    "  -  manage data that is best in initial state arg\n",
    "  - useState returns attay of to elements [currentState , awaitToUpdate(set)State]\n",
    "  - pass AF(arrowFunc) to setState to have prevState and then update or manopulate state in it\n",
    "  - destructure state for adding in currState inside of setter func\n",
    "  - clear input with setInputText to empty string"
   ]
  },
  {
   "cell_type": "code",
   "execution_count": null,
   "metadata": {
    "vscode": {
     "languageId": "javascript"
    }
   },
   "outputs": [],
   "source": [
    "\n",
    "const [watches  ,setWatches] = useState([{title :  \"rolex\"}]) //destructured pattern\n",
    "const state = useState(\"\")\n",
    "const curState = state[0]\n",
    "const updatedState = state[1] //state setter\n",
    "setWatches((prevWatch) => [...prevWatch, {title:\"casio\"}] ) // afa is currState"
   ]
  },
  {
   "cell_type": "markdown",
   "metadata": {},
   "source": [
    "\n",
    "  * useReducer HOOK\n",
    "  - useReducer is form complex state managements like forms to handle state of an app\n",
    "  - useReducer func takes 2 args : reducerFunc and initialState\n",
    "  - reducerFunc(prevState ,action) {\n",
    "      if(action.type === \"ADD_WATCH\") {\n",
    "        return state logic like : [...prevState , action.payload]\n",
    "      }\n",
    "      console.error(JSON.stringify(action))\n",
    "      if ... AND last one is throw new Error(\"...\")\n",
    "  }\n",
    " "
   ]
  },
  {
   "cell_type": "code",
   "execution_count": null,
   "metadata": {
    "vscode": {
     "languageId": "javascript"
    }
   },
   "outputs": [],
   "source": [
    "const[watches ,dispatch] = useReducer(prevState ,action)\n",
    "\n",
    "function watchReduce(prevState , action) {\n",
    "  const ACTION_TYPE = {\n",
    "    ADD_WATCH:\"ADD_WATCH\",\n",
    "    REMOVE_WATCH:\"REMOVE_WATCH\",\n",
    "    CLEAR_WATCHES:\"CLEAR_WATCHES\"\n",
    "  }\n",
    "  if(action.type === ACTION_TYPE.ADD_WATCH) {\n",
    "    return [...prevState,action.payload ]\n",
    "  }\n",
    "  }"
   ]
  },
  {
   "cell_type": "markdown",
   "metadata": {},
   "source": [
    "useContext Hook\n",
    " - useContext hook helps in state lifting and prop drilling proccess to not occur \n",
    " - three steps create context null and set provider component and wrap context.provider over app.js to let all children inherit value attr as prop\n",
    "\n",
    "// usage of created context \n",
    "\n",
    "- {children prop in afa} & in return func of functional component in app.js or     useLayoutEffect.js\n",
    "- now all inside components can use value of themeContext provider \n",
    "\n"
   ]
  },
  {
   "cell_type": "code",
   "execution_count": null,
   "metadata": {
    "vscode": {
     "languageId": "javascript"
    }
   },
   "outputs": [],
   "source": [
    "// context creation\n",
    "import {createContext, useContext} from \"react\"\n",
    "\n",
    "const ThemeContext = createContext(null)\n",
    "\n",
    "const ThemeProvider = ({children}) {\n",
    "  return (\n",
    "    <ThemeContext.Provider value=\"dark\">\n",
    "    {children}\n",
    "    </ThemeContext.Provider>\n",
    "  )\n",
    "}\n",
    "// usage of created context \n",
    " <ThemeProvider>\n",
    "  {children}\n",
    "</ThemeProvider>\n",
    "// inside those children components we call useContext to mention that value items\n",
    "const theme = useContext(ThemeContext)\n",
    "console.log(theme)"
   ]
  },
  {
   "cell_type": "markdown",
   "metadata": {},
   "source": [
    "* useRef HOOK \n",
    "- maintain info that is not used for rendering UI \n",
    "- refrence to DOM element || time out \n",
    "\n",
    "diffrence from state is : \n",
    " * when value of useRef updatet is doesn't cause render over time\n",
    " * diffrent from regular var and does not reset after every reRender \n",
    "\n",
    "- useful when u need to do non-react stuff (BrowserAPI m external lib) \n",
    "!! don't use is to display UI , if its info to display use states,\n",
    "!! update values of refs in eventHandlers not in body of component\n",
    "\n",
    "- useRef returns an object that have .current property that is value of ref\n",
    "**!! MAINTAIN REFRENCE FOR ELEMENTS THAT THOSE NOT USED FOR RENDER UI\n",
    "-  "
   ]
  },
  {
   "cell_type": "code",
   "execution_count": null,
   "metadata": {
    "vscode": {
     "languageId": "javascript"
    }
   },
   "outputs": [],
   "source": [
    "import { useRef } from \"react\";\n",
    "\n",
    "export default InputRef = () => {\n",
    "  const inputRef = useRef()\n",
    "\n",
    "  const handleClick = () => {\n",
    "    inputRef.current.focus()\n",
    "  }\n",
    "\n",
    "  return (\n",
    "    <>\n",
    "    <input  ref={inputRef}/>\n",
    "    <button onClick={handleClick}>\n",
    "      focus\n",
    "    </button>\n",
    "    </>\n",
    "  )\n",
    "}\n",
    "//check that ref obj does not change over changing of input text an maintain refrence for that dom element\n"
   ]
  },
  {
   "cell_type": "markdown",
   "metadata": {},
   "source": [
    "EFFECT HOOKS \n",
    "\n",
    "- is a hook for haveing SideEffect in App like (NetworkReq ,Manipulate DOM ,BrowserAPI , Animations , non-react codes)\n",
    "- useEffect, useLayoutEffect (effects -used- before browser repaints screen), useInsertionEffect( effects -used- before react make changes to DOM ) diffrence are when they called :\n",
    " * useEffect called when component initialy mounts\n",
    " * useLayout called before browser paints screen little bit before useEffect \n",
    " * useInsersionEffect before react make changes to DOM \n",
    " \n",
    " useEffect(arrowFn,return af ? runs it when components unmount ,dependecyArray)\n",
    " * arg 1 : inline func for mounting, and return af func for cleaning up on unmount\n",
    " * arrg 2 :if array then runs only first mount, if avoided runs on every re render , if puts value in array then keep track of changes in values for re rendering like state \n",
    " - "
   ]
  },
  {
   "cell_type": "code",
   "execution_count": null,
   "metadata": {
    "vscode": {
     "languageId": "javascript"
    }
   },
   "outputs": [],
   "source": [
    "import { useEffect, useState } from \"react\";\n",
    "\n",
    "export default UseEffectExample = () => {\n",
    "  const [count, setCount] = useState(0)\n",
    "\n",
    "  useEffect(() => {\n",
    "    //inline func that that called once component initially mounts \n",
    "    return //func to clean up (STOP MEMORY LEAKS AND PERFORMENCE ISSUES)\n",
    "  },[dependecyArray])\n",
    "}"
   ]
  },
  {
   "cell_type": "markdown",
   "metadata": {},
   "source": [
    "Performance Hooks :useMemo ,useCallback \n",
    "- when react re renders a lot ...\n",
    "- before optimizing check that you have re render issues like watefalling memory request , memory leaks if so then :\n",
    "* useMemo to cache the result of expensive calc \n",
    "* useCallback to cache a func to pass it down to an optimized component\n",
    "- caching is just saving return value of doing some work and reusing that value "
   ]
  },
  {
   "cell_type": "markdown",
   "metadata": {},
   "source": [
    "USE MEMO HOOK : \n",
    "useMemo()\n",
    "- accept 2 args : a func to compute value , dependency Arr\n",
    " func will called once in initial render and stores(cached) returned value\n",
    " it will only called agained when dependency arr value changes\n",
    " "
   ]
  },
  {
   "cell_type": "code",
   "execution_count": null,
   "metadata": {
    "vscode": {
     "languageId": "javascript"
    }
   },
   "outputs": [],
   "source": [
    "import { useMemo } from \"react\";\n",
    "\n",
    "export default memoizedComponent = () => {\n",
    "  \n",
    "  const text = \"hey\"\n",
    "  const expensiveText = (text) =>  {\n",
    "    for(let i= 0 ; i > 10000; i++) {\n",
    "      console.log(text)\n",
    "    }\n",
    "    return text\n",
    "  }\n",
    "   const memoizedText = useMemo(() => expensiveText(text),[text])\n",
    "  return <p>{memoizedText}</p>\n",
    "}"
   ]
  },
  {
   "cell_type": "markdown",
   "metadata": {},
   "source": [
    "USE CALLBACK : \n",
    "similar to useMemo \n",
    "- instead of caching return value of a func it caches function itself \n",
    "- first arg is the func you want to cache and second arg is dependecy arr\n",
    "- react returns cached func in initial render and will only re-initialize this func when props change it is usefull when using a function as dependecy or prop "
   ]
  },
  {
   "cell_type": "code",
   "execution_count": null,
   "metadata": {
    "vscode": {
     "languageId": "javascript"
    }
   },
   "outputs": [],
   "source": [
    "import { useCallback } from \"react\";\n",
    "\n",
    "const expensiveWork = (text) => {\n",
    "  for(let i = 0 ; i > 10000;i++) {\n",
    "      console.log(text)\n",
    "  }\n",
    "  return text\n",
    "}\n",
    "\n",
    "export default function useCallbackExample() {\n",
    "  const text =\"hey mom!\"\n",
    "  const memoizedFunc = useCallback(expensiveWork,[text])\n",
    "\n",
    "  const textFromFn = memoizedFunc(text)\n",
    "\n",
    "  return (\n",
    "    <p>\n",
    "      {textFromFn}\n",
    "    </p>\n",
    "  )\n",
    "} "
   ]
  },
  {
   "cell_type": "markdown",
   "metadata": {},
   "source": [
    "CUSTOM HOOKS :\n",
    "- if u want to re use react logic  in app \n",
    "- must still abide the rules of calling on top lvl of reactComponent or otherHooks and have prefix of \"use\"\n",
    "- they always wrap around other react hooks (statefull logic NOT state itself)\n",
    "- state itself can be shared using context or other state manager providers\n",
    "!! if you can make custom hook doesn't mean you should "
   ]
  },
  {
   "cell_type": "code",
   "execution_count": null,
   "metadata": {
    "vscode": {
     "languageId": "javascript"
    }
   },
   "outputs": [],
   "source": []
  }
 ],
 "metadata": {
  "kernelspec": {
   "display_name": "Python 3",
   "language": "python",
   "name": "python3"
  },
  "language_info": {
   "name": "python",
   "version": "3.11.1"
  }
 },
 "nbformat": 4,
 "nbformat_minor": 2
}
